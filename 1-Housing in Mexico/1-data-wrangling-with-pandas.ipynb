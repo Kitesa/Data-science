{
 "cells": [
  {
   "cell_type": "code",
   "execution_count": 19,
   "id": "cf9e9384-096b-4995-9453-c3c50a35fc6d",
   "metadata": {},
   "outputs": [],
   "source": [
    "import pandas as pd\n",
    "from IPython.display import VimeoVideo"
   ]
  },
  {
   "cell_type": "markdown",
   "id": "b974eabf-920b-45ce-8d9e-67f9aac9c703",
   "metadata": {},
   "source": [
    "# Open all files"
   ]
  },
  {
   "cell_type": "markdown",
   "id": "6157088c-31b4-4de7-8b0a-c6b0cedcd45e",
   "metadata": {},
   "source": [
    "The first part of any data science project is preparing your data, which means making sure its in the right place and format for you to conduct your analysis. The first step of any data preparation is importing your raw data and cleaning it. \n",
    "\n",
    "If you look this directory, you'll see that the data for this project comes in three txt files: `mexico-real-estate-1.csv`, `mexico-real-estate-2.csv`, and `mexico-real-estate-3.csv`."
   ]
  },
  {
   "cell_type": "markdown",
   "id": "c5266217-1f29-4fe3-a48b-23363e3d41bb",
   "metadata": {},
   "source": [
    "### Step 1: Read these three txt files into three separate DataFrames named `df1`, `df2`, and `df3`, respectively."
   ]
  },
  {
   "cell_type": "code",
   "execution_count": 57,
   "id": "04137164-bd27-4362-b311-a328f6688821",
   "metadata": {},
   "outputs": [],
   "source": [
    "df1 = pd.read_csv(\"mexico-real-estate-1.txt\", delimiter=\",\")\n",
    "df2 = pd.read_csv(\"mexico-real-estate-2.txt\", delimiter=\",\")\n",
    "df3 = pd.read_csv(\"mexico-real-estate-3.txt\", delimiter=\",\")"
   ]
  },
  {
   "cell_type": "markdown",
   "id": "5b69a723-d01c-4feb-9179-a10ad2cfbf59",
   "metadata": {},
   "source": [
    "**Print object type and shape for DataFrames**"
   ]
  },
  {
   "cell_type": "code",
   "execution_count": null,
   "id": "d324e54f-34e6-4092-ba6b-634c384d4948",
   "metadata": {},
   "outputs": [],
   "source": [
    "print(\"df1 type:\", type(df1))\n",
    "print(\"df1 shape:\", df1.shape)\n",
    "print()\n",
    "print(\"df2 type:\", type(df2))\n",
    "print(\"df2 shape:\", df2.shape)\n",
    "print()\n",
    "print(\"df3 type:\", type(df3))\n",
    "print(\"df3 shape:\", df3.shape)"
   ]
  },
  {
   "cell_type": "markdown",
   "id": "54f6d6c5-cf8e-441a-88b8-b0607726b6b3",
   "metadata": {},
   "source": [
    "**Check the first 10 records of all dataframes**"
   ]
  },
  {
   "cell_type": "code",
   "execution_count": null,
   "id": "e1ab6ab2-f95a-45ac-b6db-0469e7265725",
   "metadata": {},
   "outputs": [],
   "source": [
    "df1.head()"
   ]
  },
  {
   "cell_type": "code",
   "execution_count": null,
   "id": "4551a491-5b8d-4daa-9d76-563ad8b07c9d",
   "metadata": {},
   "outputs": [],
   "source": [
    "df2.head()"
   ]
  },
  {
   "cell_type": "code",
   "execution_count": null,
   "id": "1f4237a5-1b20-431e-9b3f-a3013bc182b3",
   "metadata": {},
   "outputs": [],
   "source": [
    "df3.head()"
   ]
  },
  {
   "cell_type": "markdown",
   "id": "d1a78df5-aa32-41ca-b0f5-be736d5e3ff7",
   "metadata": {},
   "source": [
    " ## Step 2: Clean all dataframes"
   ]
  },
  {
   "cell_type": "markdown",
   "id": "b12b7a48-71d6-4ea6-a86b-eadbb5b16bef",
   "metadata": {},
   "source": [
    " #### 2.1: Clean df1"
   ]
  },
  {
   "cell_type": "markdown",
   "id": "070fe013-3075-4a49-aa36-b6487898815d",
   "metadata": {},
   "source": [
    "Now we have three DataFrames, it's time to inspect them to see if they need any cleaning. \n",
    "Let's look at them one-by-one. we can do this by inspect df1, df2 and df3 by looking at its shape attribute. Then we use the info method to see the data types and number of missing values for each column. Finally, we use the head method to determine to look at the first five rows of your dataset."
   ]
  },
  {
   "cell_type": "code",
   "execution_count": null,
   "id": "ca19cb47-d910-412d-a158-4f5f98f18b0c",
   "metadata": {},
   "outputs": [],
   "source": [
    "# Print df1 shape\n",
    "print(\"First dataframe shape(df1-shape): \", df1.shape)\n",
    "# Print df1 info\n",
    "print(\"First dataframe info(df1-info): \", df1.info)\n",
    "# Get output of df1 head\n",
    "print(\"First dataframe head(df1-head): \", df1.head())"
   ]
  },
  {
   "cell_type": "markdown",
   "id": "029ba39f-acae-41b2-ba0c-78321b8b548e",
   "metadata": {},
   "source": [
    "It looks like there are a couple of problems in this DataFrame that we need to solve. First, there are many rows with NaN values in the \"lat\" and \"lon\" columns. Second, the data type for the \"price_usd\" column is object when it should be float. so, we clean df1 by dropping rows with NaN values. Then remove the \"$\" and \",\" characters from \"price_usd\" and recast the values in the column as floats."
   ]
  },
  {
   "cell_type": "code",
   "execution_count": 21,
   "id": "7d765b20-cc8d-4983-8a59-c6072193b2a4",
   "metadata": {},
   "outputs": [
    {
     "name": "stdout",
     "output_type": "stream",
     "text": [
      "df1 type: <class 'pandas.core.frame.DataFrame'>\n",
      "df1 shape: (583, 6)\n"
     ]
    },
    {
     "data": {
      "text/html": [
       "<div>\n",
       "<style scoped>\n",
       "    .dataframe tbody tr th:only-of-type {\n",
       "        vertical-align: middle;\n",
       "    }\n",
       "\n",
       "    .dataframe tbody tr th {\n",
       "        vertical-align: top;\n",
       "    }\n",
       "\n",
       "    .dataframe thead th {\n",
       "        text-align: right;\n",
       "    }\n",
       "</style>\n",
       "<table border=\"1\" class=\"dataframe\">\n",
       "  <thead>\n",
       "    <tr style=\"text-align: right;\">\n",
       "      <th></th>\n",
       "      <th>property_type</th>\n",
       "      <th>state</th>\n",
       "      <th>lat</th>\n",
       "      <th>lon</th>\n",
       "      <th>area_m2</th>\n",
       "      <th>price_usd</th>\n",
       "    </tr>\n",
       "  </thead>\n",
       "  <tbody>\n",
       "    <tr>\n",
       "      <th>0</th>\n",
       "      <td>house</td>\n",
       "      <td>Estado de México</td>\n",
       "      <td>19.560181</td>\n",
       "      <td>-99.233528</td>\n",
       "      <td>150.0</td>\n",
       "      <td>67,965.56</td>\n",
       "    </tr>\n",
       "    <tr>\n",
       "      <th>1</th>\n",
       "      <td>house</td>\n",
       "      <td>Nuevo León</td>\n",
       "      <td>25.688436</td>\n",
       "      <td>-100.198807</td>\n",
       "      <td>186.0</td>\n",
       "      <td>63,223.78</td>\n",
       "    </tr>\n",
       "    <tr>\n",
       "      <th>2</th>\n",
       "      <td>apartment</td>\n",
       "      <td>Guerrero</td>\n",
       "      <td>16.767704</td>\n",
       "      <td>-99.764383</td>\n",
       "      <td>82.0</td>\n",
       "      <td>84,298.37</td>\n",
       "    </tr>\n",
       "    <tr>\n",
       "      <th>3</th>\n",
       "      <td>apartment</td>\n",
       "      <td>Guerrero</td>\n",
       "      <td>16.829782</td>\n",
       "      <td>-99.911012</td>\n",
       "      <td>150.0</td>\n",
       "      <td>94,308.80</td>\n",
       "    </tr>\n",
       "    <tr>\n",
       "      <th>5</th>\n",
       "      <td>house</td>\n",
       "      <td>Yucatán</td>\n",
       "      <td>21.052583</td>\n",
       "      <td>-89.538639</td>\n",
       "      <td>205.0</td>\n",
       "      <td>105,191.37</td>\n",
       "    </tr>\n",
       "  </tbody>\n",
       "</table>\n",
       "</div>"
      ],
      "text/plain": [
       "  property_type             state        lat         lon  area_m2   price_usd\n",
       "0         house  Estado de México  19.560181  -99.233528    150.0   67,965.56\n",
       "1         house        Nuevo León  25.688436 -100.198807    186.0   63,223.78\n",
       "2     apartment          Guerrero  16.767704  -99.764383     82.0   84,298.37\n",
       "3     apartment          Guerrero  16.829782  -99.911012    150.0   94,308.80\n",
       "5         house           Yucatán  21.052583  -89.538639    205.0  105,191.37"
      ]
     },
     "execution_count": 21,
     "metadata": {},
     "output_type": "execute_result"
    }
   ],
   "source": [
    "# Drop null values from df1 set inplace to True\n",
    "df1.dropna(inplace=True)\n",
    "# Clean \"price_usd\" column in df1 by removing the dollar sign from the beginning.\n",
    "# this can be done by replacing $ with \"\"\n",
    "df1[\"price_usd\"] = df1[\"price_usd\"].str.replace('$', \"\", regex=False)\n",
    "\n",
    "# Print object type, shape, and head\n",
    "print(\"df1 type:\", type(df1))\n",
    "print(\"df1 shape:\", df1.shape)\n",
    "df1.head()"
   ]
  },
  {
   "cell_type": "markdown",
   "id": "2c92c16f-b04a-4459-bf53-8b5d0780c478",
   "metadata": {},
   "source": [
    "Excellent. Now we have removed the missing values(NaN) and the '$' sign from \"price_usd\" column. next we remove ',' from \"price_usd\" column"
   ]
  },
  {
   "cell_type": "code",
   "execution_count": 23,
   "id": "12c64bce-9224-40e1-bb85-97764c9a64f8",
   "metadata": {},
   "outputs": [],
   "source": [
    "# Clean \"price_usd\" column in df1 by removing the ',' sign.\n",
    "# this can be done by replacing ',' with \"\"\n",
    "df1[\"price_usd\"] = df1[\"price_usd\"].str.replace(',', \"\", regex=False)\n",
    "# Print object type, shape, and head\n",
    "print(\"df1 type:\", type(df1))\n",
    "print(\"df1 shape:\", df1.shape)\n",
    "df1.head()"
   ]
  },
  {
   "cell_type": "markdown",
   "id": "174550c5-86e6-47b0-8398-c263d2d721f8",
   "metadata": {},
   "source": [
    "Boom, df1 ready\n",
    "Next clean df2"
   ]
  },
  {
   "cell_type": "markdown",
   "id": "10481438-f790-4f14-83dc-3bf16987c463",
   "metadata": {},
   "source": [
    " #### 2.2: Clean df2"
   ]
  },
  {
   "cell_type": "markdown",
   "id": "c7dfa5d3-91e9-4b33-aa88-6891ec1e9b7e",
   "metadata": {},
   "source": [
    "Now it's time to tackle df2. Let's inspect it using the same commands we used before. we'll notice that it has the same issue of NaN values, but there's a new problem, too: The home prices are in Mexican pesos (\"price_mxn\"), not US dollars (\"price_usd\"). If we want to compare all the home prices in this dataset, they all need to be in the same currency."
   ]
  },
  {
   "cell_type": "code",
   "execution_count": null,
   "id": "a1cf581a-2c29-4704-92b8-a7289e7c492f",
   "metadata": {},
   "outputs": [],
   "source": [
    "# Print df2 shape\n",
    "print(\"Second dataframe shape(df2-shape): \", df2.shape)\n",
    "# Print df2 info\n",
    "print(\"Second dataframe info(df2-info): \", df2.info)\n",
    "# Get output of df2 head\n",
    "print(\"Second dataframe head(df2-head): \", df2.head())"
   ]
  },
  {
   "cell_type": "code",
   "execution_count": 28,
   "id": "2cc9a692-8b20-42ad-b4ae-885fab040654",
   "metadata": {},
   "outputs": [
    {
     "name": "stdout",
     "output_type": "stream",
     "text": [
      "  property_type       state        lat         lon  area_m2  price_mxn\n",
      "0     apartment  Nuevo León  25.721081 -100.345581     72.0  1300000.0\n",
      "1     apartment      Puebla        NaN         NaN    190.0  2500000.0\n",
      "2         house     Morelos  23.634501 -102.552788    360.0  5300000.0\n",
      "3         house     Morelos        NaN         NaN     76.0   820000.0\n",
      "4         house      Puebla        NaN         NaN    200.0  1100000.0\n"
     ]
    }
   ],
   "source": [
    "print( df2.head())"
   ]
  },
  {
   "cell_type": "markdown",
   "id": "b86a685a-d56b-44c1-9063-76b2079e5f8b",
   "metadata": {},
   "source": [
    "First, drop rows with NaN values in df2. Next, we use the \"price_mxn\" column to create a new column named \"price_usd\". \n",
    "(Keep in mind that, when this data was collected in 2014, a dollar cost 19 pesos.) Finally, drop the \"price_mxn\" from the DataFrame."
   ]
  },
  {
   "cell_type": "code",
   "execution_count": null,
   "id": "db1175bc-e092-4f49-ab3a-4eb29303240b",
   "metadata": {},
   "outputs": [],
   "source": [
    "# Drop null values from df2\n",
    "df1.dropna(inplace=True)\n",
    "# Create \"price_usd\" column for df2 (19 pesos to the dollar in 2014)\n",
    "df2[\"price_usd\"] = (df2[\"price_mxn\"]/19).head()\n",
    "# Now \"price_mxn\" column is not necessary more so drop \"price_mxn\" column from df2\n",
    "df2.drop(columns=[\"price_mxn\"], inplace=True)\n",
    "\n",
    "# Print object type, shape, and head\n",
    "print(\"df2 type:\", type(df2))\n",
    "print(\"df2 shape:\", df2.shape)\n",
    "df2.head()"
   ]
  },
  {
   "cell_type": "markdown",
   "id": "a0a89436-2a9d-47b8-b48d-c8d1e7b0e82a",
   "metadata": {},
   "source": [
    "NB: From the above cell, once we execute the cell, we may face the error, \n",
    "---------------------------------------------------------------------------"
   ]
  },
  {
   "cell_type": "raw",
   "id": "94a3a640-693e-49fc-a6a7-6a2f185a4a64",
   "metadata": {
    "jp-MarkdownHeadingCollapsed": true
   },
   "source": [
    "KeyError                                  Traceback (most recent call last)\n",
    "File ~\\AppData\\Local\\Programs\\Python\\Python312\\Lib\\site-packages\\pandas\\core\\indexes\\base.py:3805, in Index.get_loc(self, key)\n",
    "   3804 try:\n",
    "-> 3805     return self._engine.get_loc(casted_key)\n",
    "   3806 except KeyError as err:\n",
    "\n",
    "File index.pyx:167, in pandas._libs.index.IndexEngine.get_loc()\n",
    "\n",
    "File index.pyx:196, in pandas._libs.index.IndexEngine.get_loc()\n",
    "\n",
    "File pandas\\\\_libs\\\\hashtable_class_helper.pxi:7081, in pandas._libs.hashtable.PyObjectHashTable.get_item()\n",
    "\n",
    "File pandas\\\\_libs\\\\hashtable_class_helper.pxi:7089, in pandas._libs.hashtable.PyObjectHashTable.get_item()\n",
    "\n",
    "KeyError: 'price_mxn'\n",
    "\n",
    "The above exception was the direct cause of the following exception:\n",
    "\n",
    "KeyError                                  Traceback (most recent call last)\n",
    "Cell In[34], line 4\n",
    "      2 df1.dropna(inplace=True)\n",
    "      3 # Create \"price_usd\" column for df2 (19 pesos to the dollar in 2014)\n",
    "----> 4 df2[\"price_usd\"] = (df2[\"price_mxn\"]/19).head()\n",
    "      5 # Now \"price_mxn\" column is not necessary more so drop \"price_mxn\" column from df2\n",
    "      6 df2.drop(columns=[\"price_mxn\"], inplace=True)\n",
    "\n",
    "File ~\\AppData\\Local\\Programs\\Python\\Python312\\Lib\\site-packages\\pandas\\core\\frame.py:4102, in DataFrame.__getitem__(self, key)\n",
    "   4100 if self.columns.nlevels > 1:\n",
    "   4101     return self._getitem_multilevel(key)\n",
    "-> 4102 indexer = self.columns.get_loc(key)\n",
    "   4103 if is_integer(indexer):\n",
    "   4104     indexer = [indexer]\n",
    "\n",
    "File ~\\AppData\\Local\\Programs\\Python\\Python312\\Lib\\site-packages\\pandas\\core\\indexes\\base.py:3812, in Index.get_loc(self, key)\n",
    "   3807     if isinstance(casted_key, slice) or (\n",
    "   3808         isinstance(casted_key, abc.Iterable)\n",
    "   3809         and any(isinstance(x, slice) for x in casted_key)\n",
    "   3810     ):\n",
    "   3811         raise InvalidIndexError(key)\n",
    "-> 3812     raise KeyError(key) from err\n",
    "   3813 except TypeError:\n",
    "   3814     # If we have a listlike key, _check_indexing_error will raise\n",
    "   3815     #  InvalidIndexError. Otherwise we fall through and re-raise\n",
    "   3816     #  the TypeError.\n",
    "   3817     self._check_indexing_error(key)\n",
    "\n",
    "KeyError: 'price_mxn'"
   ]
  },
  {
   "cell_type": "markdown",
   "id": "cafb6ae0-772e-47d5-86c1-08d52b64263b",
   "metadata": {},
   "source": [
    "This happened because we have already removed the column \"price_mxn\" in the first execusion."
   ]
  },
  {
   "cell_type": "markdown",
   "id": "ba360795-e4d5-4d9d-97e4-1801352b5730",
   "metadata": {},
   "source": [
    "Booooooom, df2 is ready for the next processing"
   ]
  },
  {
   "cell_type": "markdown",
   "id": "ce9171f0-cd56-46bf-88b8-e7ed8dff8a98",
   "metadata": {},
   "source": [
    " #### 2.3: Clean df3"
   ]
  },
  {
   "cell_type": "markdown",
   "id": "3d4a30b4-43c6-4ee8-86cc-abaacfa288d0",
   "metadata": {},
   "source": [
    "Great work! We're now on the final DataFrame. Use the same shape, info and head commands to inspect the df3. Do you see any familiar issues?\n",
    "\n",
    "We'll notice that we still have NaN values, but there are two new problems:\n",
    "   1. Instead of separate `\"lat\"` and `\"lon\"` columns, there's a single `\"lat-lon\"` column.(Should be splitted into two columns)\n",
    "   2. Instead of a `\"state\"` column, there's a `\"place_with_parent_names\"` column.\n",
    "We need the resolve these problems so that df3 has the same columns in the same format as df1 and df2."
   ]
  },
  {
   "cell_type": "markdown",
   "id": "b371b3b8-0484-42b1-95c4-be4412a62e47",
   "metadata": {},
   "source": [
    "Let's move on"
   ]
  },
  {
   "cell_type": "markdown",
   "id": "a84fcb5a-48fb-471e-982a-3a2b3bac77d3",
   "metadata": {},
   "source": [
    "Drop rows with `NaN` values in `df3`. Then use the [`split`](https://pandas.pydata.org/docs/reference/api/pandas.Series.str.split.html) method to create two new columns from `\"lat-lon\"` named `\"lat\"` and `\"lon\"`, respectively.\n",
    "\n",
    "- Drop rows with missing values from a DataFrame using pandas.\n",
    "- Split the strings in one column to create another using pandas.\n",
    "- Rename the \"place_with_parent_names\" column to \"state\"\n",
    "- Drop \"lat-lon\" column. Because it is not necessary more"
   ]
  },
  {
   "cell_type": "code",
   "execution_count": 44,
   "id": "7e229901-9cdf-403f-b4b4-d781b1e8d6a6",
   "metadata": {},
   "outputs": [
    {
     "data": {
      "text/html": [
       "<div>\n",
       "<style scoped>\n",
       "    .dataframe tbody tr th:only-of-type {\n",
       "        vertical-align: middle;\n",
       "    }\n",
       "\n",
       "    .dataframe tbody tr th {\n",
       "        vertical-align: top;\n",
       "    }\n",
       "\n",
       "    .dataframe thead th {\n",
       "        text-align: right;\n",
       "    }\n",
       "</style>\n",
       "<table border=\"1\" class=\"dataframe\">\n",
       "  <thead>\n",
       "    <tr style=\"text-align: right;\">\n",
       "      <th></th>\n",
       "      <th>property_type</th>\n",
       "      <th>state</th>\n",
       "      <th>lat</th>\n",
       "      <th>lon</th>\n",
       "      <th>area_m2</th>\n",
       "      <th>price_usd</th>\n",
       "    </tr>\n",
       "  </thead>\n",
       "  <tbody>\n",
       "    <tr>\n",
       "      <th>0</th>\n",
       "      <td>house</td>\n",
       "      <td>Estado de México</td>\n",
       "      <td>19.560181</td>\n",
       "      <td>-99.233528</td>\n",
       "      <td>150.0</td>\n",
       "      <td>67965.56</td>\n",
       "    </tr>\n",
       "    <tr>\n",
       "      <th>1</th>\n",
       "      <td>house</td>\n",
       "      <td>Nuevo León</td>\n",
       "      <td>25.688436</td>\n",
       "      <td>-100.198807</td>\n",
       "      <td>186.0</td>\n",
       "      <td>63223.78</td>\n",
       "    </tr>\n",
       "    <tr>\n",
       "      <th>2</th>\n",
       "      <td>apartment</td>\n",
       "      <td>Guerrero</td>\n",
       "      <td>16.767704</td>\n",
       "      <td>-99.764383</td>\n",
       "      <td>82.0</td>\n",
       "      <td>84298.37</td>\n",
       "    </tr>\n",
       "    <tr>\n",
       "      <th>3</th>\n",
       "      <td>apartment</td>\n",
       "      <td>Guerrero</td>\n",
       "      <td>16.829782</td>\n",
       "      <td>-99.911012</td>\n",
       "      <td>150.0</td>\n",
       "      <td>94308.80</td>\n",
       "    </tr>\n",
       "    <tr>\n",
       "      <th>5</th>\n",
       "      <td>house</td>\n",
       "      <td>Yucatán</td>\n",
       "      <td>21.052583</td>\n",
       "      <td>-89.538639</td>\n",
       "      <td>205.0</td>\n",
       "      <td>105191.37</td>\n",
       "    </tr>\n",
       "  </tbody>\n",
       "</table>\n",
       "</div>"
      ],
      "text/plain": [
       "  property_type             state        lat         lon  area_m2  price_usd\n",
       "0         house  Estado de México  19.560181  -99.233528    150.0   67965.56\n",
       "1         house        Nuevo León  25.688436 -100.198807    186.0   63223.78\n",
       "2     apartment          Guerrero  16.767704  -99.764383     82.0   84298.37\n",
       "3     apartment          Guerrero  16.829782  -99.911012    150.0   94308.80\n",
       "5         house           Yucatán  21.052583  -89.538639    205.0  105191.37"
      ]
     },
     "execution_count": 44,
     "metadata": {},
     "output_type": "execute_result"
    }
   ],
   "source": [
    "df1.head()"
   ]
  },
  {
   "cell_type": "code",
   "execution_count": null,
   "id": "952a93e5-1904-48ee-9aa0-5fa2280abc0f",
   "metadata": {},
   "outputs": [],
   "source": [
    "# Drop null values from df3\n",
    "df3.dropna()\n",
    "# Create \"lat\" and \"lon\" columns for df3\n",
    "df3[[\"lat\", \"lon\"]] = df3[\"lat-lon\"].str.split(',', expand=True)\n",
    "#Extract the \"state\" from  \"place_with_parent_names\" column and create new \"state\" column.\n",
    "#state is the third index after splitting  \"place_with_parent_names\" column\n",
    "df3[\"state\"] = df3[\"place_with_parent_names\"].str.split(\"|\", expand=True)[2]\n",
    "# Drop \"lat-lon\" coumn\n",
    "df3.drop(columns=[\"lat-lon\"], inplace=True)\n",
    "# Drop \"place_with_parent_names\" coumn\n",
    "df3.drop(columns=[\"place_with_parent_names\"], inplace=True)\n",
    "# Print object type, shape, and head\n",
    "print(\"df3 type:\", type(df3))\n",
    "print(\"df3 shape:\", df3.shape)\n",
    "df3.head()"
   ]
  },
  {
   "cell_type": "markdown",
   "id": "99d2b04e-c824-4e38-8cad-5495bd036841",
   "metadata": {},
   "source": [
    "***wuhuuuuuuuuuu***, completed cleaning all dataframes, now lets combine them together"
   ]
  },
  {
   "cell_type": "markdown",
   "id": "d1b58b6c-63f4-449c-aa7c-fc59487b2759",
   "metadata": {},
   "source": [
    "## Step 3: Concatenate DataFrames"
   ]
  },
  {
   "cell_type": "markdown",
   "id": "bb444ed3-2caf-4f8d-a97a-396662d3326b",
   "metadata": {},
   "source": [
    "Great work! we have three clean DataFrames, and now it's time to combine them into a single DataFrame so that we can conduct our analysis."
   ]
  },
  {
   "cell_type": "markdown",
   "id": "696e797e-7a95-4653-bb31-3cdbf22443a3",
   "metadata": {},
   "source": [
    "Use pd.concat to concatenate df1, df2, df3 as new DataFrame named df. Our new DataFrame should have 1,736 rows and 6 columns:\"property_type\", \"state\", \"lat\", \"lon\", \"area_m2\", and \"price_usd\"."
   ]
  },
  {
   "cell_type": "code",
   "execution_count": 50,
   "id": "2574c70e-fd46-4977-9343-c3097da332fa",
   "metadata": {},
   "outputs": [
    {
     "name": "stdout",
     "output_type": "stream",
     "text": [
      "df type: <class 'pandas.core.frame.DataFrame'>\n",
      "df shape: (1983, 6)\n"
     ]
    },
    {
     "data": {
      "text/html": [
       "<div>\n",
       "<style scoped>\n",
       "    .dataframe tbody tr th:only-of-type {\n",
       "        vertical-align: middle;\n",
       "    }\n",
       "\n",
       "    .dataframe tbody tr th {\n",
       "        vertical-align: top;\n",
       "    }\n",
       "\n",
       "    .dataframe thead th {\n",
       "        text-align: right;\n",
       "    }\n",
       "</style>\n",
       "<table border=\"1\" class=\"dataframe\">\n",
       "  <thead>\n",
       "    <tr style=\"text-align: right;\">\n",
       "      <th></th>\n",
       "      <th>property_type</th>\n",
       "      <th>state</th>\n",
       "      <th>lat</th>\n",
       "      <th>lon</th>\n",
       "      <th>area_m2</th>\n",
       "      <th>price_usd</th>\n",
       "    </tr>\n",
       "  </thead>\n",
       "  <tbody>\n",
       "    <tr>\n",
       "      <th>0</th>\n",
       "      <td>house</td>\n",
       "      <td>Estado de México</td>\n",
       "      <td>19.560181</td>\n",
       "      <td>-99.233528</td>\n",
       "      <td>150.0</td>\n",
       "      <td>67965.56</td>\n",
       "    </tr>\n",
       "    <tr>\n",
       "      <th>1</th>\n",
       "      <td>house</td>\n",
       "      <td>Nuevo León</td>\n",
       "      <td>25.688436</td>\n",
       "      <td>-100.198807</td>\n",
       "      <td>186.0</td>\n",
       "      <td>63223.78</td>\n",
       "    </tr>\n",
       "    <tr>\n",
       "      <th>2</th>\n",
       "      <td>apartment</td>\n",
       "      <td>Guerrero</td>\n",
       "      <td>16.767704</td>\n",
       "      <td>-99.764383</td>\n",
       "      <td>82.0</td>\n",
       "      <td>84298.37</td>\n",
       "    </tr>\n",
       "    <tr>\n",
       "      <th>3</th>\n",
       "      <td>apartment</td>\n",
       "      <td>Guerrero</td>\n",
       "      <td>16.829782</td>\n",
       "      <td>-99.911012</td>\n",
       "      <td>150.0</td>\n",
       "      <td>94308.80</td>\n",
       "    </tr>\n",
       "    <tr>\n",
       "      <th>5</th>\n",
       "      <td>house</td>\n",
       "      <td>Yucatán</td>\n",
       "      <td>21.052583</td>\n",
       "      <td>-89.538639</td>\n",
       "      <td>205.0</td>\n",
       "      <td>105191.37</td>\n",
       "    </tr>\n",
       "  </tbody>\n",
       "</table>\n",
       "</div>"
      ],
      "text/plain": [
       "  property_type             state        lat         lon  area_m2  price_usd\n",
       "0         house  Estado de México  19.560181  -99.233528    150.0   67965.56\n",
       "1         house        Nuevo León  25.688436 -100.198807    186.0   63223.78\n",
       "2     apartment          Guerrero  16.767704  -99.764383     82.0   84298.37\n",
       "3     apartment          Guerrero  16.829782  -99.911012    150.0   94308.80\n",
       "5         house           Yucatán  21.052583  -89.538639    205.0  105191.37"
      ]
     },
     "execution_count": 50,
     "metadata": {},
     "output_type": "execute_result"
    }
   ],
   "source": [
    "# Concatenate df1, df2, and df3\n",
    "df = pd.concat([df1, df2, df3])\n",
    "\n",
    "# Print object type, shape, and head\n",
    "print(\"df type:\", type(df))\n",
    "print(\"df shape:\", df.shape)\n",
    "df.head()"
   ]
  },
  {
   "cell_type": "markdown",
   "id": "8348dd86-8dc7-48a9-840d-5bdff74db0a7",
   "metadata": {},
   "source": [
    "## Step 4: Save df¶"
   ]
  },
  {
   "cell_type": "markdown",
   "id": "8724033a-6491-434a-9535-7b5e14e2ac5b",
   "metadata": {},
   "source": [
    "Save df as a CSV file using the to_csv method with name \"mexico-real-estate-clean.csv\". Be sure to set the index argument to False."
   ]
  },
  {
   "cell_type": "code",
   "execution_count": 52,
   "id": "61c59f78-f949-4659-b640-ee24d6c86927",
   "metadata": {},
   "outputs": [],
   "source": [
    "df.to_csv( \"mexico-real-estate-clean.csv\")"
   ]
  },
  {
   "cell_type": "markdown",
   "id": "08ce0b66-ec57-4c85-89de-9ed512009a57",
   "metadata": {},
   "source": [
    "**Check**"
   ]
  },
  {
   "cell_type": "markdown",
   "id": "3b246b47-6ec5-41e9-943b-5875c643f025",
   "metadata": {},
   "source": [
    "Use the python os module to check if the file is already created in this directory."
   ]
  },
  {
   "cell_type": "code",
   "execution_count": null,
   "id": "6b7e6a12-c23b-446e-9d1b-cf39fed843ed",
   "metadata": {},
   "outputs": [],
   "source": [
    "#import os module\n",
    "import os\n",
    "##loop through all files and dir in this dir\n",
    "for file in os.listdir():\n",
    "    print(file)"
   ]
  },
  {
   "cell_type": "markdown",
   "id": "ac2ae72b-6183-4344-9976-d67f5e1eb6b2",
   "metadata": {},
   "source": [
    "### Great and amazing.  🎯 Now our dataframe is ready and we are also ready to proceed. next we will do more exploratory data analysis.\n",
    "### See you next"
   ]
  },
  {
   "cell_type": "code",
   "execution_count": null,
   "id": "d51a888b-dc07-46de-94fc-a46031b20313",
   "metadata": {},
   "outputs": [],
   "source": []
  }
 ],
 "metadata": {
  "kernelspec": {
   "display_name": "Python 3 (ipykernel)",
   "language": "python",
   "name": "python3"
  },
  "language_info": {
   "codemirror_mode": {
    "name": "ipython",
    "version": 3
   },
   "file_extension": ".py",
   "mimetype": "text/x-python",
   "name": "python",
   "nbconvert_exporter": "python",
   "pygments_lexer": "ipython3",
   "version": "3.12.3"
  }
 },
 "nbformat": 4,
 "nbformat_minor": 5
}
